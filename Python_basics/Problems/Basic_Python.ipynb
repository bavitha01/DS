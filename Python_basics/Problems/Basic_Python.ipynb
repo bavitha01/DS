{
 "cells": [
  {
   "metadata": {},
   "cell_type": "markdown",
   "source": "1.Write a function called calculate_area that takes base and height as an input and returns and area of a triangle.",
   "id": "83385935f9f63ff4"
  },
  {
   "metadata": {
    "ExecuteTime": {
     "end_time": "2024-12-10T08:59:12.100229Z",
     "start_time": "2024-12-10T08:59:12.096291Z"
    }
   },
   "cell_type": "code",
   "source": [
    "def calculate_area (b,h):\n",
    "    area = 1/2*(b*h)\n",
    "    return area \n",
    "# Example\n",
    "print(calculate_area(2,3))"
   ],
   "id": "1b7b3fcae752146f",
   "outputs": [
    {
     "name": "stdout",
     "output_type": "stream",
     "text": [
      "3.0\n"
     ]
    }
   ],
   "execution_count": 1
  },
  {
   "metadata": {},
   "cell_type": "markdown",
   "source": "2.Modify above function to take third parameter shape type. It can be either \"triangle\" or \"rectangle\". Based on shape type it will calculate area.",
   "id": "c1a934293c92141a"
  },
  {
   "metadata": {
    "ExecuteTime": {
     "end_time": "2024-12-09T16:15:06.993851Z",
     "start_time": "2024-12-09T16:15:06.966731Z"
    }
   },
   "cell_type": "code",
   "source": [
    "def calculate_area (d1,d2,shape):\n",
    "    if shape =='triangle':\n",
    "        area = 1/2*(b*h)\n",
    "    elif shape =='rectangle':\n",
    "        area=d1*d2\n",
    "    else:\n",
    "        print(\"Input shape is neither rectangle nor triangle\")\n",
    "    return area\n",
    "#Example\n",
    "print(calculate_area(2,3,'rectangle'))"
   ],
   "id": "d90cbb0a0076c1f7",
   "outputs": [
    {
     "name": "stdout",
     "output_type": "stream",
     "text": [
      "6\n"
     ]
    }
   ],
   "execution_count": 2
  },
  {
   "metadata": {},
   "cell_type": "markdown",
   "source": "3.Write a function called print_pattern that takes integer number as an argument and prints ",
   "id": "66718c445de9100e"
  },
  {
   "metadata": {
    "ExecuteTime": {
     "end_time": "2024-12-09T16:20:06.611242Z",
     "start_time": "2024-12-09T16:20:06.601849Z"
    }
   },
   "cell_type": "code",
   "source": [
    "def print_pattern(n):\n",
    "    for i in range(n):\n",
    "        s=''\n",
    "        for j in range(i+1):\n",
    "            s = s+'*'\n",
    "        print(s)\n",
    "#Example\n",
    "print_pattern(4)"
   ],
   "id": "4d5cbf195d2cdaf1",
   "outputs": [
    {
     "name": "stdout",
     "output_type": "stream",
     "text": [
      "*\n",
      "**\n",
      "***\n",
      "****\n"
     ]
    }
   ],
   "execution_count": 7
  },
  {
   "metadata": {},
   "cell_type": "markdown",
   "source": [
    "4.\n",
    "We have following information on countries and their population (population is in crores),\n",
    "\n",
    "    |Country|Population|\n",
    "    |-------|----------|\n",
    "    |China|143|\n",
    "    |India|136|\n",
    "    |USA|32|\n",
    "    |Pakistan|21|\n",
    "    1. Using above create a dictionary of countries and its population\n",
    "    2. Write a program that asks user for three type of inputs,\n",
    "        1. print: if user enter print then it should print all countries with their population in this format,\n",
    "            ``` \n",
    "           china==>143\n",
    "           india==>136\n",
    "            usa==>32\n",
    "            pakistan==>21\n",
    "            ```\n",
    "        1. add: if user input add then it should further ask for a country name to add. If country already exist in our dataset then it should print that it exist and do nothing. If it doesn't then it asks for population and add that new country/population in our dictionary and print it\n",
    "        2. remove: when user inputs remove it should ask for a country to remove. If country exist in our dictionary then remove it and print new dictionary using format shown above in (a). Else print that country doesn't exist!\n",
    "        3. query : on this again ask user for which country he or she wants to query. When user inputs that country it will print population of that country.\n"
   ],
   "id": "cb378da05c083952"
  },
  {
   "metadata": {
    "ExecuteTime": {
     "end_time": "2024-12-09T16:41:12.098073Z",
     "start_time": "2024-12-09T16:41:03.453041Z"
    }
   },
   "cell_type": "code",
   "source": [
    "population ={\n",
    "    'china':143,\n",
    "    'india':136,\n",
    "    'usa':32,\n",
    "    'pakistan':21\n",
    "}\n",
    "def add():\n",
    "    country=input(\"Enter name of country to add:\")\n",
    "    country=country.lower()\n",
    "    if country in population:\n",
    "        print(\"Country already exists\")\n",
    "        return \n",
    "    p=input(f'Enter population of new {country}:')\n",
    "    population[country]=p\n",
    "    print_all()\n",
    "    \n",
    "def remove():\n",
    "    country = input(\"Enter country name to remove:\")\n",
    "    country = country.lower()\n",
    "    if country not in population:\n",
    "        print(\"Country doesn't exist in our dataset. Terminating\")\n",
    "        return\n",
    "    del population[country]\n",
    "    print_all()\n",
    "\n",
    "def query():\n",
    "    country = input(\"Enter country name to query:\")\n",
    "    country = country.lower()\n",
    "    if country not in population:\n",
    "        print(\"Country doesn't exist in our dataset. Terminating\")\n",
    "        return\n",
    "    print(f\"Population of {country} is: {population[country]} crore\")\n",
    "\n",
    "def print_all():\n",
    "    for country, p in population.items():\n",
    "        print(f\"{country}==>{p}\")\n",
    "\n",
    "def main():\n",
    "    op=input(\"Enter operation (add, remove, query or print):\")\n",
    "    if op.lower() == 'add':\n",
    "        add()\n",
    "    elif op.lower() == 'remove':\n",
    "        remove()\n",
    "    elif op.lower() == 'query':\n",
    "        query()\n",
    "    elif op.lower() == 'print':\n",
    "        print_all()\n",
    "\n",
    "if __name__ == '__main__':\n",
    "    main()"
   ],
   "id": "4719a3edad10be75",
   "outputs": [
    {
     "name": "stdout",
     "output_type": "stream",
     "text": [
      "Population of usa is: 32 crore\n"
     ]
    }
   ],
   "execution_count": 13
  },
  {
   "metadata": {},
   "cell_type": "markdown",
   "source": [
    "5.You are given following list of stocks and their prices in last 3 days,\n",
    "\n",
    "    |Stock|Prices|\n",
    "    |-------|----------|\n",
    "    |info|[600,630,620]|\n",
    "    |ril|[1430,1490,1567]|\n",
    "    |mtl|[234,180,160]|\n",
    "\n",
    "    1. Write a program that asks user for operation. Value of operations could be,\n",
    "        1. print: When user enters print it should print following,\n",
    "            ```\n",
    "            info ==> [600, 630, 620] ==> avg:  616.67\n",
    "            ril ==> [1430, 1490, 1567] ==> avg:  1495.67\n",
    "            mtl ==> [234, 180, 160] ==> avg:  191.33\n",
    "            ```\n",
    "        2. add: When user enters 'add', it asks for stock ticker and price. If stock already exist in your list (like info, ril etc) then it will append the price to the list. Otherwise it will create new entry in your dictionary. For example entering 'tata' and 560 will add tata ==> [560] to the dictionary of stocks.\n"
   ],
   "id": "c376e49e846705c9"
  },
  {
   "metadata": {
    "ExecuteTime": {
     "end_time": "2024-12-10T06:14:41.172276Z",
     "start_time": "2024-12-10T06:14:34.699959Z"
    }
   },
   "cell_type": "code",
   "source": [
    "import statistics\n",
    "\n",
    "stocks = {\n",
    "    'info': [600,630,620],\n",
    "    'ril': [1430,1490,1567],\n",
    "    'mtl': [234,180,160]\n",
    "}\n",
    "\n",
    "def print_all():\n",
    "    for stock,price_list in stocks.items():\n",
    "        avg = statistics.mean(price_list)\n",
    "        print(f\"{stock} ==> {price_list} ==> avg: \",round(avg,2))\n",
    "\n",
    "\n",
    "def add():\n",
    "    s = input(\"Enter a stock ticker to add:\")\n",
    "    p = input(\"Enter price of this stock:\")\n",
    "    p=float(p)\n",
    "    if s in stocks:\n",
    "        stocks[s].append(p)\n",
    "    else:\n",
    "        stocks[s] = [p]\n",
    "    print_all()\n",
    "\n",
    "\n",
    "def main():\n",
    "    op=input(\"Enter operation (print, add):\")\n",
    "    if op.lower() == 'print':\n",
    "        print_all()\n",
    "    elif op.lower() == 'add':\n",
    "        add()\n",
    "    else:\n",
    "        print(\"Unsupported operation:\",op)\n",
    "\n",
    "if __name__ == '__main__':\n",
    "    main()"
   ],
   "id": "78892c28ea93cdd",
   "outputs": [
    {
     "name": "stdout",
     "output_type": "stream",
     "text": [
      "info ==> [600, 630, 620] ==> avg:  616.67\n",
      "ril ==> [1430, 1490, 1567] ==> avg:  1495.67\n",
      "mtl ==> [234, 180, 160] ==> avg:  191.33\n"
     ]
    }
   ],
   "execution_count": 17
  },
  {
   "metadata": {},
   "cell_type": "markdown",
   "source": "6. Write circle_calc() function that takes radius of a circle as an input from user and then it calculates and returns area, circumference and diameter. You should get these values in your main program by calling circle_calc function and then print them",
   "id": "31e8645b2908e2d7"
  },
  {
   "metadata": {
    "ExecuteTime": {
     "end_time": "2024-12-10T06:08:40.320852Z",
     "start_time": "2024-12-10T06:08:37.557771Z"
    }
   },
   "cell_type": "code",
   "source": [
    "import math \n",
    "def circle_calc(r):\n",
    "    area = math.pi*r*r\n",
    "    circumference = 2*math.pi*r\n",
    "    diameter = 2*r\n",
    "    return area,circumference,diameter\n",
    "if __name__=='__main__':\n",
    "    r=input('Enter radius of circle:')\n",
    "    r=float(r)\n",
    "    a,c,d=circle_calc(r)\n",
    "    print(f'area:{a},circumference:{c},diameter:{d}')"
   ],
   "id": "8abfb61df503d57c",
   "outputs": [
    {
     "name": "stdout",
     "output_type": "stream",
     "text": [
      "area:28.274333882308138,circumference:18.84955592153876,diameter6.0\n"
     ]
    }
   ],
   "execution_count": 16
  },
  {
   "metadata": {},
   "cell_type": "markdown",
   "source": "7.poem.txt contains famous poem \"Road not taken\" by poet Robert Frost. You have to read this file in your python program and find out words with maximum occurance.",
   "id": "984f96952ee13cb1"
  },
  {
   "metadata": {
    "ExecuteTime": {
     "end_time": "2024-12-10T06:32:29.506872Z",
     "start_time": "2024-12-10T06:32:29.484275Z"
    }
   },
   "cell_type": "code",
   "source": [
    "word_stats={}\n",
    "with open ('poem.txt',\"r\") as f:\n",
    "    for line in f:\n",
    "        words=line.split(' ')\n",
    "        for word in words:\n",
    "            if word in word_stats:\n",
    "                word_stats[word]+=1\n",
    "            else:\n",
    "                word_stats[word]=1\n",
    "print(word_stats)\n",
    "word_occurances = list(word_stats.values())\n",
    "max_count = max(word_occurances)\n",
    "print(\"Max occurances of any word is:\",max_count)\n",
    "print(\"Words with max occurances are: \")\n",
    "for word, count in word_stats.items():\n",
    "    if count==max_count:\n",
    "        print(word)          "
   ],
   "id": "597624424a1be4d9",
   "outputs": [
    {
     "name": "stdout",
     "output_type": "stream",
     "text": [
      "{'Two': 2, 'roads': 2, 'diverged': 2, 'in': 3, 'a': 3, 'yellow': 1, 'wood,\\n': 1, 'And': 6, 'sorry': 1, 'I': 8, 'could': 1, 'not': 1, 'travel': 1, 'both\\n': 1, 'be': 2, 'one': 3, 'traveler,': 1, 'long': 1, 'stood\\n': 1, 'looked': 1, 'down': 1, 'as': 5, 'far': 1, 'could\\n': 1, 'To': 1, 'where': 1, 'it': 2, 'bent': 1, 'the': 8, 'undergrowth;\\n': 1, '\\n': 3, 'Then': 1, 'took': 2, 'other,': 1, 'just': 1, 'fair,\\n': 1, 'having': 1, 'perhaps': 1, 'better': 1, 'claim,\\n': 1, 'Because': 1, 'was': 1, 'grassy': 1, 'and': 3, 'wanted': 1, 'wear;\\n': 1, 'Though': 1, 'for': 2, 'that': 3, 'passing': 1, 'there\\n': 1, 'Had': 1, 'worn': 1, 'them': 1, 'really': 1, 'about': 1, 'same,\\n': 1, 'both': 1, 'morning': 1, 'equally': 1, 'lay\\n': 1, 'In': 1, 'leaves': 1, 'no': 1, 'step': 1, 'had': 1, 'trodden': 1, 'black.\\n': 1, 'Oh,': 1, 'kept': 1, 'first': 1, 'another': 1, 'day!\\n': 1, 'Yet': 1, 'knowing': 1, 'how': 1, 'way': 1, 'leads': 1, 'on': 1, 'to': 1, 'way,\\n': 1, 'doubted': 1, 'if': 1, 'should': 1, 'ever': 1, 'come': 1, 'back.\\n': 1, 'shall': 1, 'telling': 1, 'this': 1, 'with': 1, 'sigh\\n': 1, 'Somewhere': 1, 'ages': 2, 'hence:\\n': 1, 'wood,': 1, 'I—\\n': 1, 'less': 1, 'traveled': 1, 'by,\\n': 1, 'has': 1, 'made': 1, 'all': 1, 'difference.': 1}\n",
      "Max occurances of any word is: 8\n",
      "Words with max occurances are: \n",
      "I\n",
      "the\n"
     ]
    }
   ],
   "execution_count": 26
  },
  {
   "metadata": {},
   "cell_type": "markdown",
   "source": [
    "8.'stocks.csv' contains stock price, earnings per share and book value. You are writing a stock market application that will process this file and create a new file\n",
    "with financial metrics such as pe ratio and price to book ratio. These are calculated as,\n",
    "```\n",
    "pe ratio = price / earnings per share\n",
    "price to book ratio = price / book value\n",
    "```"
   ],
   "id": "10db67c1fe1fbed0"
  },
  {
   "metadata": {
    "ExecuteTime": {
     "end_time": "2024-12-10T06:41:43.590459Z",
     "start_time": "2024-12-10T06:41:43.580422Z"
    }
   },
   "cell_type": "code",
   "source": [
    "with open(\"stocks.csv\", \"r\") as f, open(\"output.csv\", \"w\") as out:\n",
    "    out.write(\"Company Name,PE Ratio, PB Ratio\\n\")\n",
    "    next(f)  # This will skip first line in the file which is a header\n",
    "    for line in f:\n",
    "        tokens = line.split(\",\")\n",
    "        stock = tokens[0]\n",
    "        price = float(tokens[1])\n",
    "        eps = float(tokens[2])\n",
    "        book = float(tokens[3])\n",
    "        pe = round(price / eps, 2)\n",
    "        pb = round(price / book, 2)\n",
    "        out.write(f\"{stock},{pe},{pb}\\n\")"
   ],
   "id": "cef314e51b7818a",
   "outputs": [],
   "execution_count": 28
  },
  {
   "metadata": {},
   "cell_type": "markdown",
   "source": [
    "9. Create a sample class named Employee with two attributes id and name \n",
    "\n",
    "```\n",
    "employee :\n",
    "    id\n",
    "    name\n",
    "```\n",
    "object initializes id and name dynamically for every Employee object created.\n",
    " \n",
    "```\n",
    "emp = Employee(1, \"coder\")\n",
    "```\n"
   ],
   "id": "528e848c731c50ef"
  },
  {
   "metadata": {
    "ExecuteTime": {
     "end_time": "2024-12-10T06:48:58.556465Z",
     "start_time": "2024-12-10T06:48:58.551216Z"
    }
   },
   "cell_type": "code",
   "source": [
    "class Employee:\n",
    "    def __init__(self,id,name):\n",
    "        self.id=id\n",
    "        self.name=name\n",
    "    def display(self):\n",
    "        print(f'ID:{self.id}\\nName:{self.name}')\n",
    "emp=Employee(1,'bavi')\n",
    "emp.display()"
   ],
   "id": "b5fd37ef211e7e72",
   "outputs": [
    {
     "name": "stdout",
     "output_type": "stream",
     "text": [
      "ID:1\n",
      "Name:bavi\n"
     ]
    }
   ],
   "execution_count": 33
  },
  {
   "metadata": {},
   "cell_type": "markdown",
   "source": "10.Use del property to first delete id attribute and then the entire object",
   "id": "43a9742b7e180970"
  },
  {
   "metadata": {
    "ExecuteTime": {
     "end_time": "2024-12-10T06:51:04.821165Z",
     "start_time": "2024-12-10T06:51:04.787838Z"
    }
   },
   "cell_type": "code",
   "source": [
    "del emp.id\n",
    "# Deleting the object itself\n",
    "try:\n",
    "    print(emp.id)\n",
    "except NameError:\n",
    "    print(\"emp.id is not defined\")"
   ],
   "id": "6b42e212a07c378c",
   "outputs": [
    {
     "ename": "NameError",
     "evalue": "name 'emp' is not defined",
     "output_type": "error",
     "traceback": [
      "\u001B[0;31m---------------------------------------------------------------------------\u001B[0m",
      "\u001B[0;31mNameError\u001B[0m                                 Traceback (most recent call last)",
      "Cell \u001B[0;32mIn[36], line 1\u001B[0m\n\u001B[0;32m----> 1\u001B[0m \u001B[38;5;28;01mdel\u001B[39;00m \u001B[43memp\u001B[49m\u001B[38;5;241m.\u001B[39mid\n\u001B[1;32m      2\u001B[0m \u001B[38;5;66;03m# Deleting the object itself\u001B[39;00m\n\u001B[1;32m      3\u001B[0m \u001B[38;5;28;01mtry\u001B[39;00m:\n",
      "\u001B[0;31mNameError\u001B[0m: name 'emp' is not defined"
     ]
    }
   ],
   "execution_count": 36
  },
  {
   "metadata": {
    "ExecuteTime": {
     "end_time": "2024-12-10T06:51:27.411277Z",
     "start_time": "2024-12-10T06:51:27.366735Z"
    }
   },
   "cell_type": "code",
   "source": [
    "del emp\n",
    "try:\n",
    "    emp.display()  # it will gives error after deleting emp\n",
    "except NameError:\n",
    "    print(\"emp is not defined\")"
   ],
   "id": "241088ecf1718a94",
   "outputs": [
    {
     "ename": "NameError",
     "evalue": "name 'emp' is not defined",
     "output_type": "error",
     "traceback": [
      "\u001B[0;31m---------------------------------------------------------------------------\u001B[0m",
      "\u001B[0;31mNameError\u001B[0m                                 Traceback (most recent call last)",
      "Cell \u001B[0;32mIn[37], line 1\u001B[0m\n\u001B[0;32m----> 1\u001B[0m \u001B[38;5;28;01mdel\u001B[39;00m \u001B[43memp\u001B[49m\n\u001B[1;32m      2\u001B[0m \u001B[38;5;28;01mtry\u001B[39;00m:\n\u001B[1;32m      3\u001B[0m     emp\u001B[38;5;241m.\u001B[39mdisplay()  \u001B[38;5;66;03m# it will gives error after deleting emp\u001B[39;00m\n",
      "\u001B[0;31mNameError\u001B[0m: name 'emp' is not defined"
     ]
    }
   ],
   "execution_count": 37
  },
  {
   "metadata": {},
   "cell_type": "markdown",
   "source": [
    "11. create inheritance using animal Dog relation.\n",
    "\n",
    "\n",
    "```\n",
    "for example, \n",
    "    Animal and Dog both has same habitat so create a method for habitat \n",
    "```\n",
    "use super() constructor for calling parent constructor.\n"
   ],
   "id": "f4126e56a51086c9"
  },
  {
   "metadata": {
    "ExecuteTime": {
     "end_time": "2024-12-10T06:53:57.279413Z",
     "start_time": "2024-12-10T06:53:57.258646Z"
    }
   },
   "cell_type": "code",
   "source": [
    "class Animal:\n",
    "    def __init__(self, habitat):\n",
    "        self.habitat = habitat\n",
    "\n",
    "    def print_habitat(self):\n",
    "        print(self.habitat)\n",
    "\n",
    "    def sound(self):\n",
    "        print(\"Some Animal Sound\")\n",
    "class Dog(Animal):\n",
    "    def __init__(self):\n",
    "        super().__init__(\"Kennel\")\n",
    "\n",
    "    def sound(self):\n",
    "        print(\"Woof woof!\")\n",
    "x = Dog()\n",
    "x.print_habitat()\n",
    "x.sound()"
   ],
   "id": "7f069f133c2dc643",
   "outputs": [
    {
     "name": "stdout",
     "output_type": "stream",
     "text": [
      "Kennel\n",
      "Woof woof!\n"
     ]
    }
   ],
   "execution_count": 39
  },
  {
   "metadata": {},
   "cell_type": "markdown",
   "source": [
    "12.Real Life Example :\n",
    "Create multiple inheritance on teacher,student and youtuber.\n",
    "\n",
    "\n",
    "```\n",
    "Q. if we have created teacher and now one student joins master degree with becoming teacher then what??\n",
    "\n",
    "Ans :  just make subclass from  teacher so that student will become teacher\n",
    "```\n",
    "Now student is teacher as well as youtuber then what???\n",
    "\n",
    "\n",
    "```\n",
    "-just use multiple inheritance for these three relations\n",
    "\n",
    "```"
   ],
   "id": "1dec3937ea9e1730"
  },
  {
   "metadata": {
    "ExecuteTime": {
     "end_time": "2024-12-10T06:57:31.642890Z",
     "start_time": "2024-12-10T06:57:31.637128Z"
    }
   },
   "cell_type": "code",
   "source": [
    "class Teacher:\n",
    "    def teachers_action(self):\n",
    "        print(\"I can teach\")\n",
    "\n",
    "class Engineer:\n",
    "    def Engineers_action(self):\n",
    "        print(\"I can code\")\n",
    "\n",
    "class Youtuber:\n",
    "    def youtubers_action(self):\n",
    "        print(\"I can code and teach\")\n",
    "\n",
    "class Person(Teacher, Engineer, Youtuber):\n",
    "    pass\n",
    "\n",
    "coder = Person()\n",
    "coder.teachers_action()\n",
    "coder.Engineers_action()\n",
    "coder.youtubers_action()"
   ],
   "id": "f94ad324a4ec6276",
   "outputs": [
    {
     "name": "stdout",
     "output_type": "stream",
     "text": [
      "I can teach\n",
      "I can code\n",
      "I can code and teach\n"
     ]
    }
   ],
   "execution_count": 40
  },
  {
   "metadata": {},
   "cell_type": "markdown",
   "source": [
    "13. Raise Exception And Finally\n",
    "\n",
    "1.Create a custom exception AdultException.\n",
    "\n",
    "2.Create a class Person with attributes name and age in it.\n",
    "\n",
    "3.Create a function get_minor_age() in the class. It throws an exception if the person is adult otherwise returns age.\n",
    "\n",
    "4.Create a function display_person() which prints the age and name of a person.\n",
    "```\n",
    "let us say,\n",
    "\n",
    "if age>18 \n",
    "    he is major\n",
    "else\n",
    "    raise exception\n",
    "\n",
    "create cusomException named ismajor and raise it if age<18.\n",
    "```\n"
   ],
   "id": "d0efe9abc6100d07"
  },
  {
   "metadata": {
    "ExecuteTime": {
     "end_time": "2024-12-10T07:00:51.861841Z",
     "start_time": "2024-12-10T07:00:51.853652Z"
    }
   },
   "cell_type": "code",
   "source": [
    "class AdultException(Exception):\n",
    "    pass\n",
    "\n",
    "\n",
    "class Person:\n",
    "    def __init__(self, name, age):\n",
    "        self.name = name\n",
    "        self.age = age\n",
    "\n",
    "    def get_minor_age(self):\n",
    "        if int(self.age) >= 18:\n",
    "            raise AdultException\n",
    "        else:\n",
    "            return self.age\n",
    "\n",
    "    def display(self):\n",
    "        try:\n",
    "            print(f\"age -> {self.get_minor_age()}\")\n",
    "        except AdultException:\n",
    "            print(\"Person is an adult\")\n",
    "        finally:\n",
    "            print(f\"name -> {self.name}\")\n",
    "\n",
    "\n",
    "# No exception\n",
    "Person(\"Bavi\", 17).display()\n",
    "\n",
    "# AdultException is raised\n",
    "Person(\"siddu\", 20).display()"
   ],
   "id": "8705f1373f5bc2a1",
   "outputs": [
    {
     "name": "stdout",
     "output_type": "stream",
     "text": [
      "age -> 17\n",
      "name -> Bavi\n",
      "Person is an adult\n",
      "name -> siddu\n"
     ]
    }
   ],
   "execution_count": 41
  },
  {
   "metadata": {},
   "cell_type": "markdown",
   "source": [
    "14. Iterators\n",
    "\n",
    "Create an iterator for fibonacci series in such a way that each next returns the next element from fibonacci series.\n",
    "The iterator should stop when it reaches a 'limit' defined in the constructor."
   ],
   "id": "d7ab7ca93b09ffb4"
  },
  {
   "metadata": {
    "ExecuteTime": {
     "end_time": "2024-12-10T09:17:48.666486Z",
     "start_time": "2024-12-10T09:17:48.662184Z"
    }
   },
   "cell_type": "code",
   "source": [
    "class FibonacciIterator:\n",
    "    def __init__(self, limit):\n",
    "\n",
    "        self.limit = limit\n",
    "        self.a, self.b = 0, 1  # Initialize the first two Fibonacci numbers\n",
    "\n",
    "    def __iter__(self):\n",
    "        return self\n",
    "\n",
    "    def __next__(self):\n",
    "        if self.a > self.limit:\n",
    "            raise StopIteration  # Stop when the current number exceeds the limit\n",
    "        current = self.a\n",
    "        self.a, self.b = self.b, self.a + self.b  # Move to the next Fibonacci numbers\n",
    "        return current\n",
    "\n",
    "# Example usage\n",
    "fib_iterator = FibonacciIterator(5)  # Generate Fibonacci numbers up to 50\n",
    "for num in fib_iterator:\n",
    "    print(num)"
   ],
   "id": "dc5fcd04a887343b",
   "outputs": [
    {
     "name": "stdout",
     "output_type": "stream",
     "text": [
      "0\n",
      "1\n",
      "1\n",
      "2\n",
      "3\n",
      "5\n"
     ]
    }
   ],
   "execution_count": 1
  },
  {
   "metadata": {},
   "cell_type": "markdown",
   "source": [
    "15.Generators\n",
    "\n",
    "Print Square Sequence using yield\n",
    "\n",
    "\n",
    "```\n",
    "    Create Generator method such that every time it will returns a next square number\n",
    "\n",
    "for exmaple : 1 4 9 16 ..\n",
    "\n",
    "     \n",
    "```"
   ],
   "id": "6295e133035bada"
  },
  {
   "metadata": {
    "ExecuteTime": {
     "end_time": "2024-12-10T09:21:25.921218Z",
     "start_time": "2024-12-10T09:21:25.915562Z"
    }
   },
   "cell_type": "code",
   "source": [
    "def next_square():\n",
    "    i = 1\n",
    "    while True:\n",
    "        yield i * i\n",
    "        i += 1\n",
    "\n",
    "for n in next_square():\n",
    "    if n > 25:\n",
    "        break\n",
    "    print(n)"
   ],
   "id": "ea137cdeb74bf594",
   "outputs": [
    {
     "name": "stdout",
     "output_type": "stream",
     "text": [
      "1\n",
      "4\n",
      "9\n",
      "16\n",
      "25\n"
     ]
    }
   ],
   "execution_count": 2
  },
  {
   "metadata": {},
   "cell_type": "markdown",
   "source": [
    "16.Create a Dictionary which contains the Binary values mapping with numbers found in the below integer and binary and save it in binary_dict. \n",
    "\n",
    "Example :\n",
    "```\n",
    "    integer = [0, 1, 2, 3, 4]\n",
    "    binary = [\"0\", \"1\", \"10\", \"11\", \"100\"]\n",
    "    binary_dict = {0:\"0\", 1:\"1\", 2:\"10\", 3: \"11\", 4:\"100\"}\n",
    "```"
   ],
   "id": "542ab29cc64cae52"
  },
  {
   "metadata": {},
   "cell_type": "code",
   "outputs": [],
   "execution_count": null,
   "source": "",
   "id": "640d04ee2b159298"
  },
  {
   "metadata": {},
   "cell_type": "markdown",
   "source": [
    "17. Create a List which contains additive inverse of a given integer list. \n",
    "An additive inverse `a` for an integer `i` is a number such that:\n",
    "```\n",
    "a + i = 0\n",
    "```\n",
    "Example:\n",
    "```\n",
    "integer = [1, -1, 2, 3, 5, 0, -7]\n",
    "additive_inverse = [-1, 1, -2, -3, -5, 0, 7]\n",
    "```\n"
   ],
   "id": "52d21ac7bab6afeb"
  },
  {
   "metadata": {},
   "cell_type": "code",
   "outputs": [],
   "execution_count": null,
   "source": "",
   "id": "45a05d934a68c8aa"
  },
  {
   "metadata": {},
   "cell_type": "markdown",
   "source": [
    "18.Create a set which only contains unique sqaures from a given a integer list.\n",
    "```\n",
    "integer = [1, -1, 2, -2, 3, -3]\n",
    "sq_set = {1, 4, 9}\n",
    "```"
   ],
   "id": "18c253c2ad0ba7a7"
  },
  {
   "metadata": {},
   "cell_type": "code",
   "outputs": [],
   "execution_count": null,
   "source": "",
   "id": "4c6a24800a082ad3"
  }
 ],
 "metadata": {
  "kernelspec": {
   "display_name": "Python 3",
   "language": "python",
   "name": "python3"
  },
  "language_info": {
   "codemirror_mode": {
    "name": "ipython",
    "version": 2
   },
   "file_extension": ".py",
   "mimetype": "text/x-python",
   "name": "python",
   "nbconvert_exporter": "python",
   "pygments_lexer": "ipython2",
   "version": "2.7.6"
  }
 },
 "nbformat": 4,
 "nbformat_minor": 5
}
