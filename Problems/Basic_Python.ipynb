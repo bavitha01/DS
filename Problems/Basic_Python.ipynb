{
 "cells": [
  {
   "metadata": {},
   "cell_type": "markdown",
   "source": "1.Write a function called calculate_area that takes base and height as an input and returns and area of a triangle.",
   "id": "83385935f9f63ff4"
  },
  {
   "metadata": {
    "ExecuteTime": {
     "end_time": "2024-12-09T16:10:38.874802Z",
     "start_time": "2024-12-09T16:10:38.867823Z"
    }
   },
   "cell_type": "code",
   "source": [
    "from xml.sax import parse\n",
    "\n",
    "\n",
    "def calculate_area (b,h):\n",
    "    area = 1/2*(b*h)\n",
    "    return area \n",
    "# Example\n",
    "print(calculate_area(2,3))"
   ],
   "id": "1b7b3fcae752146f",
   "outputs": [
    {
     "name": "stdout",
     "output_type": "stream",
     "text": [
      "3.0\n"
     ]
    }
   ],
   "execution_count": 1
  },
  {
   "metadata": {},
   "cell_type": "markdown",
   "source": "2.Modify above function to take third parameter shape type. It can be either \"triangle\" or \"rectangle\". Based on shape type it will calculate area.",
   "id": "c1a934293c92141a"
  },
  {
   "metadata": {
    "ExecuteTime": {
     "end_time": "2024-12-09T16:15:06.993851Z",
     "start_time": "2024-12-09T16:15:06.966731Z"
    }
   },
   "cell_type": "code",
   "source": [
    "def calculate_area (d1,d2,shape):\n",
    "    if shape =='triangle':\n",
    "        area = 1/2*(b*h)\n",
    "    elif shape =='rectangle':\n",
    "        area=d1*d2\n",
    "    else:\n",
    "        print(\"Input shape is neither rectangle nor triangle\")\n",
    "    return area\n",
    "#Example\n",
    "print(calculate_area(2,3,'rectangle'))"
   ],
   "id": "d90cbb0a0076c1f7",
   "outputs": [
    {
     "name": "stdout",
     "output_type": "stream",
     "text": [
      "6\n"
     ]
    }
   ],
   "execution_count": 2
  },
  {
   "metadata": {},
   "cell_type": "markdown",
   "source": "3.Write a function called print_pattern that takes integer number as an argument and prints ",
   "id": "66718c445de9100e"
  },
  {
   "metadata": {
    "ExecuteTime": {
     "end_time": "2024-12-09T16:20:06.611242Z",
     "start_time": "2024-12-09T16:20:06.601849Z"
    }
   },
   "cell_type": "code",
   "source": [
    "def print_pattern(n):\n",
    "    for i in range(n):\n",
    "        s=''\n",
    "        for j in range(i+1):\n",
    "            s = s+'*'\n",
    "        print(s)\n",
    "#Example\n",
    "print_pattern(4)"
   ],
   "id": "4d5cbf195d2cdaf1",
   "outputs": [
    {
     "name": "stdout",
     "output_type": "stream",
     "text": [
      "*\n",
      "**\n",
      "***\n",
      "****\n"
     ]
    }
   ],
   "execution_count": 7
  },
  {
   "metadata": {},
   "cell_type": "markdown",
   "source": [
    "4.\n",
    "We have following information on countries and their population (population is in crores),\n",
    "\n",
    "    |Country|Population|\n",
    "    |-------|----------|\n",
    "    |China|143|\n",
    "    |India|136|\n",
    "    |USA|32|\n",
    "    |Pakistan|21|\n",
    "    1. Using above create a dictionary of countries and its population\n",
    "    2. Write a program that asks user for three type of inputs,\n",
    "        1. print: if user enter print then it should print all countries with their population in this format,\n",
    "            ``` \n",
    "           china==>143\n",
    "           india==>136\n",
    "            usa==>32\n",
    "            pakistan==>21\n",
    "            ```\n",
    "        1. add: if user input add then it should further ask for a country name to add. If country already exist in our dataset then it should print that it exist and do nothing. If it doesn't then it asks for population and add that new country/population in our dictionary and print it\n",
    "        2. remove: when user inputs remove it should ask for a country to remove. If country exist in our dictionary then remove it and print new dictionary using format shown above in (a). Else print that country doesn't exist!\n",
    "        3. query: on this again ask user for which country he or she wants to query. When user inputs that country it will print population of that country.\n"
   ],
   "id": "cb378da05c083952"
  },
  {
   "metadata": {
    "ExecuteTime": {
     "end_time": "2024-12-09T16:41:12.098073Z",
     "start_time": "2024-12-09T16:41:03.453041Z"
    }
   },
   "cell_type": "code",
   "source": [
    "population ={\n",
    "    'china':143,\n",
    "    'india':136,\n",
    "    'usa':32,\n",
    "    'pakistan':21\n",
    "}\n",
    "def add():\n",
    "    country=input(\"Enter name of country to add:\")\n",
    "    country=country.lower()\n",
    "    if country in population:\n",
    "        print(\"Country already exists\")\n",
    "        return \n",
    "    p=input(f'Enter population of new {country}:')\n",
    "    population[country]=p\n",
    "    print_all()\n",
    "    \n",
    "def remove():\n",
    "    country = input(\"Enter country name to remove:\")\n",
    "    country = country.lower()\n",
    "    if country not in population:\n",
    "        print(\"Country doesn't exist in our dataset. Terminating\")\n",
    "        return\n",
    "    del population[country]\n",
    "    print_all()\n",
    "\n",
    "def query():\n",
    "    country = input(\"Enter country name to query:\")\n",
    "    country = country.lower()\n",
    "    if country not in population:\n",
    "        print(\"Country doesn't exist in our dataset. Terminating\")\n",
    "        return\n",
    "    print(f\"Population of {country} is: {population[country]} crore\")\n",
    "\n",
    "def print_all():\n",
    "    for country, p in population.items():\n",
    "        print(f\"{country}==>{p}\")\n",
    "\n",
    "def main():\n",
    "    op=input(\"Enter operation (add, remove, query or print):\")\n",
    "    if op.lower() == 'add':\n",
    "        add()\n",
    "    elif op.lower() == 'remove':\n",
    "        remove()\n",
    "    elif op.lower() == 'query':\n",
    "        query()\n",
    "    elif op.lower() == 'print':\n",
    "        print_all()\n",
    "\n",
    "if __name__ == '__main__':\n",
    "    main()"
   ],
   "id": "4719a3edad10be75",
   "outputs": [
    {
     "name": "stdout",
     "output_type": "stream",
     "text": [
      "Population of usa is: 32 crore\n"
     ]
    }
   ],
   "execution_count": 13
  },
  {
   "metadata": {},
   "cell_type": "markdown",
   "source": [
    "5.You are given following list of stocks and their prices in last 3 days,\n",
    "\n",
    "    |Stock|Prices|\n",
    "    |-------|----------|\n",
    "    |info|[600,630,620]|\n",
    "    |ril|[1430,1490,1567]|\n",
    "    |mtl|[234,180,160]|\n",
    "\n",
    "    1. Write a program that asks user for operation. Value of operations could be,\n",
    "        1. print: When user enters print it should print following,\n",
    "            ```\n",
    "            info ==> [600, 630, 620] ==> avg:  616.67\n",
    "            ril ==> [1430, 1490, 1567] ==> avg:  1495.67\n",
    "            mtl ==> [234, 180, 160] ==> avg:  191.33\n",
    "            ```\n",
    "        2. add: When user enters 'add', it asks for stock ticker and price. If stock already exist in your list (like info, ril etc) then it will append the price to the list. Otherwise it will create new entry in your dictionary. For example entering 'tata' and 560 will add tata ==> [560] to the dictionary of stocks.\n"
   ],
   "id": "c376e49e846705c9"
  },
  {
   "metadata": {},
   "cell_type": "code",
   "outputs": [],
   "execution_count": null,
   "source": "",
   "id": "78892c28ea93cdd"
  },
  {
   "metadata": {},
   "cell_type": "markdown",
   "source": "6. Write circle_calc() function that takes radius of a circle as an input from user and then it calculates and returns area, circumference and diameter. You should get these values in your main program by calling circle_calc function and then print them",
   "id": "31e8645b2908e2d7"
  },
  {
   "metadata": {},
   "cell_type": "code",
   "outputs": [],
   "execution_count": null,
   "source": "",
   "id": "8abfb61df503d57c"
  }
 ],
 "metadata": {
  "kernelspec": {
   "display_name": "Python 3",
   "language": "python",
   "name": "python3"
  },
  "language_info": {
   "codemirror_mode": {
    "name": "ipython",
    "version": 2
   },
   "file_extension": ".py",
   "mimetype": "text/x-python",
   "name": "python",
   "nbconvert_exporter": "python",
   "pygments_lexer": "ipython2",
   "version": "2.7.6"
  }
 },
 "nbformat": 4,
 "nbformat_minor": 5
}
